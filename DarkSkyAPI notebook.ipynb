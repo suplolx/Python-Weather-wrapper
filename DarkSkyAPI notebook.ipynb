{
 "cells": [
  {
   "cell_type": "markdown",
   "metadata": {},
   "source": [
    "# DarkSkyAPI wrapper for Python 3.6"
   ]
  },
  {
   "cell_type": "markdown",
   "metadata": {},
   "source": [
    "The DarkSkyAPI weather wrapper is powered by [DarkSky](\"https://darksky.net/poweredby/\") and provides an easy way to access weather details using Python 3.6."
   ]
  },
  {
   "cell_type": "markdown",
   "metadata": {},
   "source": [
    "## Client instance"
   ]
  },
  {
   "cell_type": "markdown",
   "metadata": {},
   "source": [
    "First import the DarkSkyClient class from the DarkSkyAPI module. If you don't have an API key for the DarkSkyAPI yet, get one for free [here](\"https://darksky.net/dev/register\"). This will allow you to make a 1000 calls each day."
   ]
  },
  {
   "cell_type": "code",
   "execution_count": 1,
   "metadata": {},
   "outputs": [],
   "source": [
    "from DarkSkyAPI import DarkSkyClient\n",
    "from secret import api_key"
   ]
  },
  {
   "cell_type": "markdown",
   "metadata": {},
   "source": [
    "Next, create the client instance using the api_key as the first argument and the latitude-longitude of the location as the second and third argument. The fourth argument is optional and will set the units (Celsius/Fahrenheit). The unit options are as follows:\n",
    "\n",
    "* auto: automatically select units based on geographic location\n",
    "* ca: same as si, except that windSpeed and windGust are in kilometers per hour\n",
    "* uk2: same as si, except that nearestStormDistance and visibility are in miles, and windSpeed and windGust in miles per hour.\n",
    "* us: Imperial units\n",
    "* si: International System of Units (default)\n",
    "\n",
    "If no units are provided it will default to \"si\". Both lat and lon can either be floats or strings."
   ]
  },
  {
   "cell_type": "code",
   "execution_count": 2,
   "metadata": {},
   "outputs": [],
   "source": [
    "client = DarkSkyClient(api_key, lat=51.2279166, lon=5.8405417, units=\"si\")"
   ]
  },
  {
   "cell_type": "markdown",
   "metadata": {},
   "source": [
    "The client instance already holds the raw weather response and can be accessed by client.raw_data."
   ]
  },
  {
   "cell_type": "code",
   "execution_count": null,
   "metadata": {},
   "outputs": [],
   "source": [
    "client.raw_data"
   ]
  },
  {
   "cell_type": "markdown",
   "metadata": {},
   "source": [
    "Additionally it also keeps track of the remaining api calls for the current day."
   ]
  },
  {
   "cell_type": "code",
   "execution_count": 4,
   "metadata": {},
   "outputs": [
    {
     "data": {
      "text/plain": [
       "970"
      ]
     },
     "execution_count": 4,
     "metadata": {},
     "output_type": "execute_result"
    }
   ],
   "source": [
    "client.API_calls_remaining"
   ]
  },
  {
   "cell_type": "markdown",
   "metadata": {},
   "source": [
    "## Current instance"
   ]
  },
  {
   "cell_type": "markdown",
   "metadata": {},
   "source": [
    "To create the current instance, simply call the get_current method on client."
   ]
  },
  {
   "cell_type": "code",
   "execution_count": 5,
   "metadata": {},
   "outputs": [],
   "source": [
    "current = client.get_current()"
   ]
  },
  {
   "cell_type": "markdown",
   "metadata": {},
   "source": [
    "All the data points of the current weather details are automatically set as attributes of the instance. This allows you to use the datapoints like attributes."
   ]
  },
  {
   "cell_type": "code",
   "execution_count": 6,
   "metadata": {},
   "outputs": [
    {
     "data": {
      "text/plain": [
       "20.07"
      ]
     },
     "execution_count": 6,
     "metadata": {},
     "output_type": "execute_result"
    }
   ],
   "source": [
    "current.temperature"
   ]
  },
  {
   "cell_type": "markdown",
   "metadata": {},
   "source": [
    "The weekday can be accessed by calling the weekday method on the current instance. This will return the full weekday name (in English). To return the short weekday name (i.e Mon, Tue), set the short parameter to True. "
   ]
  },
  {
   "cell_type": "code",
   "execution_count": 7,
   "metadata": {},
   "outputs": [
    {
     "data": {
      "text/plain": [
       "'Tuesday'"
      ]
     },
     "execution_count": 7,
     "metadata": {},
     "output_type": "execute_result"
    }
   ],
   "source": [
    "current.weekday()"
   ]
  },
  {
   "cell_type": "code",
   "execution_count": 8,
   "metadata": {},
   "outputs": [
    {
     "data": {
      "text/plain": [
       "'Tue'"
      ]
     },
     "execution_count": 8,
     "metadata": {},
     "output_type": "execute_result"
    }
   ],
   "source": [
    "current.weekday(short=True)"
   ]
  },
  {
   "cell_type": "markdown",
   "metadata": {},
   "source": [
    "These are the attributes available for the current instance."
   ]
  },
  {
   "cell_type": "code",
   "execution_count": 9,
   "metadata": {},
   "outputs": [
    {
     "name": "stdout",
     "output_type": "stream",
     "text": [
      "apparentTemperature\n",
      "cloudCover\n",
      "dewPoint\n",
      "humidity\n",
      "icon\n",
      "ozone\n",
      "precipIntensity\n",
      "precipProbability\n",
      "precipType\n",
      "pressure\n",
      "summary\n",
      "temperature\n",
      "time\n",
      "uvIndex\n",
      "visibility\n",
      "weekday\n",
      "windBearing\n",
      "windGust\n",
      "windSpeed\n"
     ]
    }
   ],
   "source": [
    "for attr in dir(current):\n",
    "    if \"__\" not in attr:\n",
    "        print(attr)"
   ]
  },
  {
   "cell_type": "markdown",
   "metadata": {},
   "source": [
    "## Daily and hourly instance"
   ]
  },
  {
   "cell_type": "markdown",
   "metadata": {},
   "source": [
    "To create the daily and hourly instance, simply call the get_daily and get_hourly method on client."
   ]
  },
  {
   "cell_type": "code",
   "execution_count": 10,
   "metadata": {},
   "outputs": [],
   "source": [
    "daily = client.get_daily()\n",
    "hourly = client.get_hourly()"
   ]
  },
  {
   "cell_type": "markdown",
   "metadata": {},
   "source": [
    "The daily and hourly classes behave in the same way because they inherit from the same base class. Because of this, only the daily instance is showcased. To view the hourly instance simply replace \"daily\" and \"day\" by \"hourly\" and \"hour\". \n",
    "\n",
    "The forecast datapoints can be accessed in various ways. To get the data by individual days or hours you can either use the day/hour_n attribute or the data list of the forecast instance."
   ]
  },
  {
   "cell_type": "code",
   "execution_count": 11,
   "metadata": {},
   "outputs": [
    {
     "data": {
      "text/plain": [
       "25.73"
      ]
     },
     "execution_count": 11,
     "metadata": {},
     "output_type": "execute_result"
    }
   ],
   "source": [
    "# Day attribute\n",
    "daily.day_0['temperatureHigh']"
   ]
  },
  {
   "cell_type": "code",
   "execution_count": 12,
   "metadata": {},
   "outputs": [
    {
     "data": {
      "text/plain": [
       "25.73"
      ]
     },
     "execution_count": 12,
     "metadata": {},
     "output_type": "execute_result"
    }
   ],
   "source": [
    "# Daily data list\n",
    "daily.data[0]['temperatureHigh']"
   ]
  },
  {
   "cell_type": "markdown",
   "metadata": {},
   "source": [
    "Both instances also have every date point set as a property. These properties hold a list of single datapoint values."
   ]
  },
  {
   "cell_type": "code",
   "execution_count": 13,
   "metadata": {},
   "outputs": [
    {
     "data": {
      "text/plain": [
       "[25.73, 29.06, 28.64, 27.86, 28.93, 26.14, 24.35, 20.47]"
      ]
     },
     "execution_count": 13,
     "metadata": {},
     "output_type": "execute_result"
    }
   ],
   "source": [
    "daily.temperatureHigh"
   ]
  },
  {
   "cell_type": "markdown",
   "metadata": {},
   "source": [
    "Alternatively, there are several methods you can use to get data collections of one or more datapoints. These methods work on both the daily and hourly instance. The methods currently available are:\n",
    "\n",
    "* data_pair: Will return a list of value pair tuples containing firstly the datetime and secondly the value of the datapoint. This method accepts three arguments. The first argument is the datapoint (required). The second argument is the date_fmt parameter and will set the format of the datetime value (default - \"%d-%m-%Y %H:%M\"). The third argument is the graph argument, if set to True it wil return a graph-friendly dict of the datetime and values of the datapoint (default - False).\n",
    "* data_single: Will return a list of single datapoint values. This method accepts three arguments. The first argument is the datapoint you wan the values of. The second argument is a boolean that will convert the datapoint to percentages if set to True (default: False). The third argument is a boolean that will convert the datapoint to a datetime string if set to True (default: False).\n",
    "* data_combined: Will return a dict containing lists of datapoint values for each day/hour. This method accepts two arguments. The first is the list of datapoints. The second is the date_fmt incase the datapoint is time. If you don't provide a list of datapoints it will return all datapoints. \n",
    "* datetimes: Will return a list containing all the datetimes of the days/hours. This method accepts one argument which is the dateformat (default - \"%d-%m-%Y %H:%M\")\n",
    "\n"
   ]
  },
  {
   "cell_type": "markdown",
   "metadata": {},
   "source": [
    "### Data pair method"
   ]
  },
  {
   "cell_type": "code",
   "execution_count": 14,
   "metadata": {},
   "outputs": [
    {
     "data": {
      "text/plain": [
       "[('05-06-2018 00:00', 25.73),\n",
       " ('06-06-2018 00:00', 29.06),\n",
       " ('07-06-2018 00:00', 28.64),\n",
       " ('08-06-2018 00:00', 27.86),\n",
       " ('09-06-2018 00:00', 28.93),\n",
       " ('10-06-2018 00:00', 26.14),\n",
       " ('11-06-2018 00:00', 24.35),\n",
       " ('12-06-2018 00:00', 20.47)]"
      ]
     },
     "execution_count": 14,
     "metadata": {},
     "output_type": "execute_result"
    }
   ],
   "source": [
    "# Data pair default date format and no graph\n",
    "daily.data_pair('temperatureHigh')"
   ]
  },
  {
   "cell_type": "code",
   "execution_count": 15,
   "metadata": {},
   "outputs": [
    {
     "data": {
      "text/plain": [
       "[('Tuesday', 25.73),\n",
       " ('Wednesday', 29.06),\n",
       " ('Thursday', 28.64),\n",
       " ('Friday', 27.86),\n",
       " ('Saturday', 28.93),\n",
       " ('Sunday', 26.14),\n",
       " ('Monday', 24.35),\n",
       " ('Tuesday', 20.47)]"
      ]
     },
     "execution_count": 15,
     "metadata": {},
     "output_type": "execute_result"
    }
   ],
   "source": [
    "# Data pair weekday names date_fmt\n",
    "daily.data_pair('temperatureHigh', date_fmt=\"%A\")"
   ]
  },
  {
   "cell_type": "code",
   "execution_count": 16,
   "metadata": {},
   "outputs": [
    {
     "data": {
      "text/plain": [
       "{'x': ['05-06-2018 00:00',\n",
       "  '06-06-2018 00:00',\n",
       "  '07-06-2018 00:00',\n",
       "  '08-06-2018 00:00',\n",
       "  '09-06-2018 00:00',\n",
       "  '10-06-2018 00:00',\n",
       "  '11-06-2018 00:00',\n",
       "  '12-06-2018 00:00'],\n",
       " 'y': [25.73, 29.06, 28.64, 27.86, 28.93, 26.14, 24.35, 20.47]}"
      ]
     },
     "execution_count": 16,
     "metadata": {},
     "output_type": "execute_result"
    }
   ],
   "source": [
    "# Data pair graph\n",
    "daily.data_pair('temperatureHigh', graph=True)"
   ]
  },
  {
   "cell_type": "markdown",
   "metadata": {},
   "source": [
    "### Data single method"
   ]
  },
  {
   "cell_type": "code",
   "execution_count": 17,
   "metadata": {},
   "outputs": [
    {
     "data": {
      "text/plain": [
       "[25.73, 29.06, 28.64, 27.86, 28.93, 26.14, 24.35, 20.47]"
      ]
     },
     "execution_count": 17,
     "metadata": {},
     "output_type": "execute_result"
    }
   ],
   "source": [
    "# Datapoint argument.\n",
    "daily.data_single('temperatureHigh')"
   ]
  },
  {
   "cell_type": "code",
   "execution_count": 18,
   "metadata": {},
   "outputs": [
    {
     "data": {
      "text/plain": [
       "[11, 0, 36, 39, 27, 35, 19, 32]"
      ]
     },
     "execution_count": 18,
     "metadata": {},
     "output_type": "execute_result"
    }
   ],
   "source": [
    "# Datapoint argument and to_percent argument set to True.\n",
    "daily.data_single('precipProbability', to_percent=True)"
   ]
  },
  {
   "cell_type": "code",
   "execution_count": 19,
   "metadata": {},
   "outputs": [
    {
     "data": {
      "text/plain": [
       "['05-06-2018 08:00',\n",
       " '06-06-2018 10:00',\n",
       " '07-06-2018 20:00',\n",
       " '08-06-2018 20:00',\n",
       " '09-06-2018 23:00',\n",
       " '10-06-2018 14:00',\n",
       " '11-06-2018 20:00',\n",
       " '12-06-2018 05:00']"
      ]
     },
     "execution_count": 19,
     "metadata": {},
     "output_type": "execute_result"
    }
   ],
   "source": [
    "# Datapoint argument and to_datetime argument set to True.\n",
    "daily.data_single('precipIntensityMaxTime', to_datetime=True)"
   ]
  },
  {
   "cell_type": "markdown",
   "metadata": {},
   "source": [
    "### Data combined method"
   ]
  },
  {
   "cell_type": "code",
   "execution_count": 20,
   "metadata": {},
   "outputs": [
    {
     "data": {
      "text/plain": [
       "{'temperatureHigh': [25.73, 29.06, 28.64, 27.86, 28.93, 26.14, 24.35, 20.47],\n",
       " 'temperatureHighTime': ['18:00',\n",
       "  '17:00',\n",
       "  '15:00',\n",
       "  '16:00',\n",
       "  '15:00',\n",
       "  '11:00',\n",
       "  '16:00',\n",
       "  '14:00']}"
      ]
     },
     "execution_count": 20,
     "metadata": {},
     "output_type": "execute_result"
    }
   ],
   "source": [
    "# Specified list of datapoints\n",
    "daily.data_combined(['temperatureHigh', 'temperatureHighTime'], date_fmt=\"%H:%M\")"
   ]
  },
  {
   "cell_type": "code",
   "execution_count": null,
   "metadata": {},
   "outputs": [],
   "source": [
    "# All data points\n",
    "daily.data_combined()"
   ]
  },
  {
   "cell_type": "markdown",
   "metadata": {},
   "source": [
    "### Datetimes method"
   ]
  },
  {
   "cell_type": "code",
   "execution_count": 22,
   "metadata": {},
   "outputs": [
    {
     "data": {
      "text/plain": [
       "['05-06-2018 00:00',\n",
       " '06-06-2018 00:00',\n",
       " '07-06-2018 00:00',\n",
       " '08-06-2018 00:00',\n",
       " '09-06-2018 00:00',\n",
       " '10-06-2018 00:00',\n",
       " '11-06-2018 00:00',\n",
       " '12-06-2018 00:00']"
      ]
     },
     "execution_count": 22,
     "metadata": {},
     "output_type": "execute_result"
    }
   ],
   "source": [
    "# Default date format\n",
    "daily.datetimes()"
   ]
  },
  {
   "cell_type": "code",
   "execution_count": 23,
   "metadata": {},
   "outputs": [
    {
     "data": {
      "text/plain": [
       "['Tue', 'Wed', 'Thu', 'Fri', 'Sat', 'Sun', 'Mon', 'Tue']"
      ]
     },
     "execution_count": 23,
     "metadata": {},
     "output_type": "execute_result"
    }
   ],
   "source": [
    "# Weekday names date format (short)\n",
    "daily.datetimes(date_fmt=\"%a\")"
   ]
  }
 ],
 "metadata": {
  "kernelspec": {
   "display_name": "Python 3",
   "language": "python",
   "name": "python3"
  },
  "language_info": {
   "codemirror_mode": {
    "name": "ipython",
    "version": 3
   },
   "file_extension": ".py",
   "mimetype": "text/x-python",
   "name": "python",
   "nbconvert_exporter": "python",
   "pygments_lexer": "ipython3",
   "version": "3.6.5"
  }
 },
 "nbformat": 4,
 "nbformat_minor": 2
}
